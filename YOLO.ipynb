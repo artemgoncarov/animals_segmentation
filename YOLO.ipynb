{
 "cells": [
  {
   "cell_type": "code",
   "execution_count": null,
   "metadata": {},
   "outputs": [],
   "source": [
    "!pip install torch torchvision --index-url https://download.pytorch.org/whl/cu126 -q"
   ]
  },
  {
   "cell_type": "code",
   "execution_count": null,
   "metadata": {},
   "outputs": [],
   "source": [
    "!pip install roboflow pyyaml tqdm ultralytics pycocotools -q"
   ]
  },
  {
   "cell_type": "code",
   "execution_count": 1,
   "metadata": {},
   "outputs": [
    {
     "name": "stdout",
     "output_type": "stream",
     "text": [
      "Torch: 2.6.0+cu126\n",
      "Torchvision: 0.21.0+cu126\n",
      "CUDA: True\n"
     ]
    }
   ],
   "source": [
    "import torch\n",
    "import torchvision\n",
    "print(\"Torch:\", torch.__version__)\n",
    "print(\"Torchvision:\", torchvision.__version__)\n",
    "print(\"CUDA:\", torch.cuda.is_available())"
   ]
  },
  {
   "cell_type": "code",
   "execution_count": 1,
   "metadata": {},
   "outputs": [
    {
     "name": "stdout",
     "output_type": "stream",
     "text": [
      "YAML файл успешно создан!\n"
     ]
    }
   ],
   "source": [
    "import yaml\n",
    "from os import listdir\n",
    "from pathlib import Path\n",
    "from shutil import copy\n",
    "from tqdm import tqdm\n",
    "from ultralytics import YOLO\n",
    "import os\n",
    "\n",
    "data = {\n",
    "    'train': str(Path(os.getcwd()) / 'yolo-data/train'),  # путь к обучающим изображениям\n",
    "    'val': str(Path(os.getcwd()) / 'yolo-data/val'),  # путь к изображениям для валидации\n",
    "    'nc': 1,  # количество классов\n",
    "    'names': ['Animal'],  # имена классов\n",
    "}\n",
    "\n",
    "# Сохранение данных в YAML файл\n",
    "with open('yolo_config.yaml', 'w') as file:\n",
    "    yaml.dump(data, file, default_flow_style=False, allow_unicode=True)\n",
    "\n",
    "print(\"YAML файл успешно создан!\")"
   ]
  },
  {
   "cell_type": "code",
   "execution_count": null,
   "metadata": {},
   "outputs": [
    {
     "name": "stdout",
     "output_type": "stream",
     "text": [
      "Ultralytics 8.3.73  Python-3.11.9 torch-2.6.0+cu126 CUDA:0 (NVIDIA GeForce RTX 3090, 24575MiB)\n",
      "\u001b[34m\u001b[1mengine\\trainer: \u001b[0mtask=segment, mode=train, model=yolo11l-seg.pt, data=yolo_config.yaml, epochs=50, time=None, patience=100, batch=128, imgsz=224, save=True, save_period=5, cache=False, device=0, workers=8, project=None, name=train6, exist_ok=False, pretrained=True, optimizer=Adam, verbose=True, seed=0, deterministic=True, single_cls=False, rect=False, cos_lr=False, close_mosaic=10, resume=False, amp=True, fraction=1.0, profile=False, freeze=None, multi_scale=False, overlap_mask=True, mask_ratio=4, dropout=0.0, val=True, split=val, save_json=False, save_hybrid=False, conf=None, iou=0.7, max_det=300, half=False, dnn=False, plots=True, source=None, vid_stride=1, stream_buffer=False, visualize=False, augment=False, agnostic_nms=False, classes=None, retina_masks=False, embed=None, show=False, save_frames=False, save_txt=False, save_conf=False, save_crop=False, show_labels=True, show_conf=True, show_boxes=True, line_width=None, format=torchscript, keras=False, optimize=False, int8=False, dynamic=False, simplify=True, opset=None, workspace=None, nms=False, lr0=0.0001, lrf=0.01, momentum=0.937, weight_decay=0.0005, warmup_epochs=3.0, warmup_momentum=0.8, warmup_bias_lr=0.1, box=7.5, cls=0.5, dfl=1.5, pose=12.0, kobj=1.0, nbs=64, hsv_h=0.015, hsv_s=0.7, hsv_v=0.4, degrees=0.0, translate=0.1, scale=0.5, shear=0.0, perspective=0.0, flipud=0.0, fliplr=0.5, bgr=0.0, mosaic=1.0, mixup=0.0, copy_paste=0.0, copy_paste_mode=flip, auto_augment=randaugment, erasing=0.4, crop_fraction=1.0, cfg=None, tracker=botsort.yaml, save_dir=runs\\segment\\train6\n",
      "Overriding model.yaml nc=80 with nc=1\n",
      "\n",
      "                   from  n    params  module                                       arguments                     \n",
      "  0                  -1  1      1856  ultralytics.nn.modules.conv.Conv             [3, 64, 3, 2]                 \n",
      "  1                  -1  1     73984  ultralytics.nn.modules.conv.Conv             [64, 128, 3, 2]               \n",
      "  2                  -1  2    173824  ultralytics.nn.modules.block.C3k2            [128, 256, 2, True, 0.25]     \n",
      "  3                  -1  1    590336  ultralytics.nn.modules.conv.Conv             [256, 256, 3, 2]              \n",
      "  4                  -1  2    691712  ultralytics.nn.modules.block.C3k2            [256, 512, 2, True, 0.25]     \n",
      "  5                  -1  1   2360320  ultralytics.nn.modules.conv.Conv             [512, 512, 3, 2]              \n",
      "  6                  -1  2   2234368  ultralytics.nn.modules.block.C3k2            [512, 512, 2, True]           \n",
      "  7                  -1  1   2360320  ultralytics.nn.modules.conv.Conv             [512, 512, 3, 2]              \n",
      "  8                  -1  2   2234368  ultralytics.nn.modules.block.C3k2            [512, 512, 2, True]           \n",
      "  9                  -1  1    656896  ultralytics.nn.modules.block.SPPF            [512, 512, 5]                 \n",
      " 10                  -1  2   1455616  ultralytics.nn.modules.block.C2PSA           [512, 512, 2]                 \n",
      " 11                  -1  1         0  torch.nn.modules.upsampling.Upsample         [None, 2, 'nearest']          \n",
      " 12             [-1, 6]  1         0  ultralytics.nn.modules.conv.Concat           [1]                           \n",
      " 13                  -1  2   2496512  ultralytics.nn.modules.block.C3k2            [1024, 512, 2, True]          \n",
      " 14                  -1  1         0  torch.nn.modules.upsampling.Upsample         [None, 2, 'nearest']          \n",
      " 15             [-1, 4]  1         0  ultralytics.nn.modules.conv.Concat           [1]                           \n",
      " 16                  -1  2    756736  ultralytics.nn.modules.block.C3k2            [1024, 256, 2, True]          \n",
      " 17                  -1  1    590336  ultralytics.nn.modules.conv.Conv             [256, 256, 3, 2]              \n",
      " 18            [-1, 13]  1         0  ultralytics.nn.modules.conv.Concat           [1]                           \n",
      " 19                  -1  2   2365440  ultralytics.nn.modules.block.C3k2            [768, 512, 2, True]           \n",
      " 20                  -1  1   2360320  ultralytics.nn.modules.conv.Conv             [512, 512, 3, 2]              \n",
      " 21            [-1, 10]  1         0  ultralytics.nn.modules.conv.Concat           [1]                           \n",
      " 22                  -1  2   2496512  ultralytics.nn.modules.block.C3k2            [1024, 512, 2, True]          \n",
      " 23        [16, 19, 22]  1   3718003  ultralytics.nn.modules.head.Segment          [1, 32, 256, [256, 512, 512]] \n",
      "YOLO11l-seg summary: 667 layers, 27,617,459 parameters, 27,617,443 gradients, 142.7 GFLOPs\n",
      "\n",
      "Transferred 1071/1077 items from pretrained weights\n",
      "Freezing layer 'model.23.dfl.conv.weight'\n",
      "\u001b[34m\u001b[1mAMP: \u001b[0mrunning Automatic Mixed Precision (AMP) checks...\n",
      "\u001b[34m\u001b[1mAMP: \u001b[0mchecks passed \n"
     ]
    },
    {
     "name": "stderr",
     "output_type": "stream",
     "text": [
      "\u001b[34m\u001b[1mtrain: \u001b[0mScanning C:\\Projects\\code review\\yolo-data\\train\\labels.cache... 100708 images, 598 backgrounds, 77 corrupt: 100%|██████████| 100708/100708 [00:00<?, ?it/s]"
     ]
    },
    {
     "name": "stdout",
     "output_type": "stream",
     "text": [
      "\u001b[34m\u001b[1mtrain: \u001b[0mWARNING  C:\\Projects\\code review\\yolo-data\\train\\images\\02304fcfa724357f69b1eca5a1025e37_JPG.rf.b66fc1fd950171baa5eb8755d08d870f.jpg: ignoring corrupt image/label: non-normalized or out of bounds coordinates [1.0004336]\n",
      "\u001b[34m\u001b[1mtrain: \u001b[0mWARNING  C:\\Projects\\code review\\yolo-data\\train\\images\\08f56e8b2c20a2bac25d76937c85e241_JPG.rf.4d133b817093ede59e7e01ade82a3814.jpg: ignoring corrupt image/label: non-normalized or out of bounds coordinates [1.0004336]\n",
      "\u001b[34m\u001b[1mtrain: \u001b[0mWARNING  C:\\Projects\\code review\\yolo-data\\train\\images\\0bafecefaa15b31a0402678646e2cca1_JPG.rf.1618af956b919efb99ae7ab48f27b203.jpg: ignoring corrupt image/label: non-normalized or out of bounds coordinates [1.0004336]\n",
      "\u001b[34m\u001b[1mtrain: \u001b[0mWARNING  C:\\Projects\\code review\\yolo-data\\train\\images\\0e6ed0cc298b00afec3230bd2ea41651_JPG.rf.1140f78c9217e5d6ebc33c1c63ca5bec.jpg: ignoring corrupt image/label: non-normalized or out of bounds coordinates [1.0004336]\n",
      "\u001b[34m\u001b[1mtrain: \u001b[0mWARNING  C:\\Projects\\code review\\yolo-data\\train\\images\\0eb7ed8b9eb517fe371500404fbb8bad_JPG.rf.93497470b58175fefbf976354d7cdfca.jpg: ignoring corrupt image/label: non-normalized or out of bounds coordinates [1.0004336]\n",
      "\u001b[34m\u001b[1mtrain: \u001b[0mWARNING  C:\\Projects\\code review\\yolo-data\\train\\images\\162d747900fb59a9da816e57054aec64_JPG.rf.c354371cb149658b84e9214c398437c2.jpg: ignoring corrupt image/label: non-normalized or out of bounds coordinates [1.0004336]\n",
      "\u001b[34m\u001b[1mtrain: \u001b[0mWARNING  C:\\Projects\\code review\\yolo-data\\train\\images\\18422e2d7e3e1b4f991830318f51ddee_JPG.rf.6c83d7fa9d18c4555166b5a5b962ec2e.jpg: ignoring corrupt image/label: non-normalized or out of bounds coordinates [1.0004336]\n",
      "\u001b[34m\u001b[1mtrain: \u001b[0mWARNING  C:\\Projects\\code review\\yolo-data\\train\\images\\18aaf8699d47406a6d6476a31ee5cbe2_JPG.rf.b538797f58a4c3a488be9f68caa0ee43.jpg: ignoring corrupt image/label: non-normalized or out of bounds coordinates [1.0004336]\n",
      "\u001b[34m\u001b[1mtrain: \u001b[0mWARNING  C:\\Projects\\code review\\yolo-data\\train\\images\\18e01f9fd203c552decf14708d80f429_JPG.rf.73f56cb0f06a1ebd4169cc4806908b9c.jpg: ignoring corrupt image/label: non-normalized or out of bounds coordinates [1.0004336]\n",
      "\u001b[34m\u001b[1mtrain: \u001b[0mWARNING  C:\\Projects\\code review\\yolo-data\\train\\images\\1a3e6862ed5c2a4998ca66bcda49c78a_JPG.rf.bc6131c68cc0eb622fb04bcdaba396c9.jpg: ignoring corrupt image/label: non-normalized or out of bounds coordinates [1.0004336]\n",
      "\u001b[34m\u001b[1mtrain: \u001b[0mWARNING  C:\\Projects\\code review\\yolo-data\\train\\images\\1b3ef3971807715f5e119503f7790d4c_JPG.rf.e665986e45b1d2fac97330b5864e166f.jpg: ignoring corrupt image/label: non-normalized or out of bounds coordinates [1.0004336]\n",
      "\u001b[34m\u001b[1mtrain: \u001b[0mWARNING  C:\\Projects\\code review\\yolo-data\\train\\images\\1bd41b5c71176b442cf565efd008d898_JPG.rf.a153b749d8e7253edd7acc01be544d97.jpg: ignoring corrupt image/label: non-normalized or out of bounds coordinates [1.0004336]\n",
      "\u001b[34m\u001b[1mtrain: \u001b[0mWARNING  C:\\Projects\\code review\\yolo-data\\train\\images\\1d01140061c7c4d1662acab38d619cb6_JPG.rf.fa0f294a1fc465e2b56f5284fdd3f1c2.jpg: ignoring corrupt image/label: non-normalized or out of bounds coordinates [1.0004336]\n",
      "\u001b[34m\u001b[1mtrain: \u001b[0mWARNING  C:\\Projects\\code review\\yolo-data\\train\\images\\1e7d147605bcf5dfe01e00c3a58ea1f8_JPG.rf.a11569ff007ca80da2523bf0c23841e4.jpg: ignoring corrupt image/label: non-normalized or out of bounds coordinates [1.0004336]\n",
      "\u001b[34m\u001b[1mtrain: \u001b[0mWARNING  C:\\Projects\\code review\\yolo-data\\train\\images\\2135f5e328d279961032851f0c5878aa_JPG.rf.458e07469639fe4fc18a627a36acc7eb.jpg: ignoring corrupt image/label: non-normalized or out of bounds coordinates [1.0004336]\n",
      "\u001b[34m\u001b[1mtrain: \u001b[0mWARNING  C:\\Projects\\code review\\yolo-data\\train\\images\\222c3ee374e2f103545db595f68cf549_JPG.rf.34a25023f10457d60ab0663cffd67b52.jpg: ignoring corrupt image/label: non-normalized or out of bounds coordinates [1.0004336]\n",
      "\u001b[34m\u001b[1mtrain: \u001b[0mWARNING  C:\\Projects\\code review\\yolo-data\\train\\images\\238a2596c4d4c025dfebe365da8845a0_JPG.rf.ab545b4f1cfdf9e78771821a3dd10b30.jpg: ignoring corrupt image/label: non-normalized or out of bounds coordinates [1.0004336]\n",
      "\u001b[34m\u001b[1mtrain: \u001b[0mWARNING  C:\\Projects\\code review\\yolo-data\\train\\images\\24d8d4996a840eb64b92fad5cb6217c3_JPG.rf.ffa3042689e94d930b5cc1a911531edd.jpg: ignoring corrupt image/label: non-normalized or out of bounds coordinates [1.0004336]\n",
      "\u001b[34m\u001b[1mtrain: \u001b[0mWARNING  C:\\Projects\\code review\\yolo-data\\train\\images\\2d9d877bf394d625af249d1f59a0fdd6_JPG.rf.4243bf75419ab4e983c82138563893db.jpg: ignoring corrupt image/label: non-normalized or out of bounds coordinates [1.0004336]\n",
      "\u001b[34m\u001b[1mtrain: \u001b[0mWARNING  C:\\Projects\\code review\\yolo-data\\train\\images\\30c4ddea922dff42cdb300a4334ee75a_JPG.rf.28d221e9dfdd4dbdcec03c23ab160137.jpg: ignoring corrupt image/label: non-normalized or out of bounds coordinates [1.0004336]\n",
      "\u001b[34m\u001b[1mtrain: \u001b[0mWARNING  C:\\Projects\\code review\\yolo-data\\train\\images\\30daf64780cdaa0c73205565f8dc124a_JPG.rf.adb5dee1a904fe39ccafe0b0f7434c32.jpg: ignoring corrupt image/label: non-normalized or out of bounds coordinates [1.0004336]\n",
      "\u001b[34m\u001b[1mtrain: \u001b[0mWARNING  C:\\Projects\\code review\\yolo-data\\train\\images\\32c9c54b194f1c34fac43d78a956adbc_JPG.rf.9e71478c2cb9cbf8a4bdf52dee2031c2.jpg: ignoring corrupt image/label: non-normalized or out of bounds coordinates [1.0004336]\n",
      "\u001b[34m\u001b[1mtrain: \u001b[0mWARNING  C:\\Projects\\code review\\yolo-data\\train\\images\\3e5e5457f28a54af8d2622db5a0aa09d_JPG.rf.6b188cfeaec1eaed8afebefb3103ad38.jpg: ignoring corrupt image/label: non-normalized or out of bounds coordinates [1.0004336]\n",
      "\u001b[34m\u001b[1mtrain: \u001b[0mWARNING  C:\\Projects\\code review\\yolo-data\\train\\images\\407538e747d07a95ed37a1f9f6c863ab_JPG.rf.3c00dafa02c71ee90072efa8fb2e23dc.jpg: ignoring corrupt image/label: non-normalized or out of bounds coordinates [1.0004336]\n",
      "\u001b[34m\u001b[1mtrain: \u001b[0mWARNING  C:\\Projects\\code review\\yolo-data\\train\\images\\45c9f869593d27df256201551d95f04e_JPG.rf.e2604a96bc62bf39ed0adfd597092dd9.jpg: ignoring corrupt image/label: non-normalized or out of bounds coordinates [1.0004336]\n",
      "\u001b[34m\u001b[1mtrain: \u001b[0mWARNING  C:\\Projects\\code review\\yolo-data\\train\\images\\4a726d5b1e6700e395af0ad218f6c9fe_JPG.rf.2b0a441a9d9502bae659d3a439bfc168.jpg: ignoring corrupt image/label: non-normalized or out of bounds coordinates [1.0004336]\n",
      "\u001b[34m\u001b[1mtrain: \u001b[0mWARNING  C:\\Projects\\code review\\yolo-data\\train\\images\\4b3a7b46ccb1d2962079e45c4520b92f_JPG.rf.7ac1560ee3e0a4b931d3e2b8a7488d66.jpg: ignoring corrupt image/label: non-normalized or out of bounds coordinates [1.0004336]\n",
      "\u001b[34m\u001b[1mtrain: \u001b[0mWARNING  C:\\Projects\\code review\\yolo-data\\train\\images\\5140c8a769458960fde892f3cbcb7dc3_JPG.rf.8a80d306df07b6120628248e4e4182e4.jpg: ignoring corrupt image/label: non-normalized or out of bounds coordinates [1.0004336]\n",
      "\u001b[34m\u001b[1mtrain: \u001b[0mWARNING  C:\\Projects\\code review\\yolo-data\\train\\images\\544a90d1be5acb0a8c9d5648a30d030b_JPG.rf.e4d1e07929798486d7988636e1ec5302.jpg: ignoring corrupt image/label: non-normalized or out of bounds coordinates [1.0004336]\n",
      "\u001b[34m\u001b[1mtrain: \u001b[0mWARNING  C:\\Projects\\code review\\yolo-data\\train\\images\\56e2b93105e15cb84b1e974376aaee89_JPG.rf.b70e98c924f409e92e028729a00f6806.jpg: ignoring corrupt image/label: non-normalized or out of bounds coordinates [1.0004336]\n",
      "\u001b[34m\u001b[1mtrain: \u001b[0mWARNING  C:\\Projects\\code review\\yolo-data\\train\\images\\5e930cacc7ebd77287b43e3f19705372_JPG.rf.2a5452c13b96fe5109b03243f9d07a7b.jpg: ignoring corrupt image/label: non-normalized or out of bounds coordinates [1.0004336]\n",
      "\u001b[34m\u001b[1mtrain: \u001b[0mWARNING  C:\\Projects\\code review\\yolo-data\\train\\images\\6300d9572d9a07d843168202e405630b_JPG.rf.abe80bb795bb1c3860a8188991f756f5.jpg: ignoring corrupt image/label: non-normalized or out of bounds coordinates [1.0004336]\n",
      "\u001b[34m\u001b[1mtrain: \u001b[0mWARNING  C:\\Projects\\code review\\yolo-data\\train\\images\\63723b3b9f2f69aa4159a6cba1bc8f63_JPG.rf.3a84e2e7c63950ea2ffabae2bf65a8b4.jpg: ignoring corrupt image/label: non-normalized or out of bounds coordinates [1.0004336]\n",
      "\u001b[34m\u001b[1mtrain: \u001b[0mWARNING  C:\\Projects\\code review\\yolo-data\\train\\images\\63f473724006d5517f83825a249adda4_JPG.rf.0c55fe4269cc32d6d460708ea8302c4e.jpg: ignoring corrupt image/label: non-normalized or out of bounds coordinates [1.0004336]\n",
      "\u001b[34m\u001b[1mtrain: \u001b[0mWARNING  C:\\Projects\\code review\\yolo-data\\train\\images\\72aabdf313d358d4a52c3fb69a11f7ca_JPG.rf.a05cf28f40fab827754f3523920be427.jpg: ignoring corrupt image/label: non-normalized or out of bounds coordinates [1.0004336]\n",
      "\u001b[34m\u001b[1mtrain: \u001b[0mWARNING  C:\\Projects\\code review\\yolo-data\\train\\images\\7bbd49109859d8f873f005b7ff406c03_JPG.rf.8f777ac186765de2864214c5c92872bf.jpg: ignoring corrupt image/label: non-normalized or out of bounds coordinates [1.0004336]\n",
      "\u001b[34m\u001b[1mtrain: \u001b[0mWARNING  C:\\Projects\\code review\\yolo-data\\train\\images\\835cc85cfb1d673942ab2c1baf1ddad9_JPG.rf.551c48f044dbb486aab38087466b585e.jpg: ignoring corrupt image/label: non-normalized or out of bounds coordinates [1.0004336]\n",
      "\u001b[34m\u001b[1mtrain: \u001b[0mWARNING  C:\\Projects\\code review\\yolo-data\\train\\images\\87057aca97839032a7e2d670f80dc798_JPG.rf.9c9af96ba20115a605ab6609ccfbd8a1.jpg: ignoring corrupt image/label: non-normalized or out of bounds coordinates [1.0004336]\n",
      "\u001b[34m\u001b[1mtrain: \u001b[0mWARNING  C:\\Projects\\code review\\yolo-data\\train\\images\\8dda10fc83f1bf46f41f7c6fe0148671_JPG.rf.199ed1a6599cc779460d20ae6d4fd73a.jpg: ignoring corrupt image/label: non-normalized or out of bounds coordinates [1.0004336]\n",
      "\u001b[34m\u001b[1mtrain: \u001b[0mWARNING  C:\\Projects\\code review\\yolo-data\\train\\images\\8f98e0f28b057c78e7c5e7709300b0e2_JPG.rf.5696bcc3853939ab3461ce5571337df4.jpg: ignoring corrupt image/label: non-normalized or out of bounds coordinates [1.0004336]\n",
      "\u001b[34m\u001b[1mtrain: \u001b[0mWARNING  C:\\Projects\\code review\\yolo-data\\train\\images\\9072df50d649e1a6f32ad6d36ca219bb_JPG.rf.b04cc4ebd9c06c4a5518dee9811c6733.jpg: ignoring corrupt image/label: non-normalized or out of bounds coordinates [1.0004336]\n",
      "\u001b[34m\u001b[1mtrain: \u001b[0mWARNING  C:\\Projects\\code review\\yolo-data\\train\\images\\90bd1f120212535e3992eb96448d4f43_JPG.rf.a88250c67fe305623a68c6efb9daede7.jpg: ignoring corrupt image/label: non-normalized or out of bounds coordinates [1.0004336]\n",
      "\u001b[34m\u001b[1mtrain: \u001b[0mWARNING  C:\\Projects\\code review\\yolo-data\\train\\images\\90c5e81faccad67d9222ebf66d48afaf_JPG.rf.3af240009db343074512a1b5325daa80.jpg: ignoring corrupt image/label: non-normalized or out of bounds coordinates [1.0004336]\n",
      "\u001b[34m\u001b[1mtrain: \u001b[0mWARNING  C:\\Projects\\code review\\yolo-data\\train\\images\\9b9f8dd5f5d11a6e0bb5c4f9fea2f0b2_JPG.rf.ba1d66c37ed119e4a6d9747bb761d40c.jpg: ignoring corrupt image/label: non-normalized or out of bounds coordinates [1.0004336]\n",
      "\u001b[34m\u001b[1mtrain: \u001b[0mWARNING  C:\\Projects\\code review\\yolo-data\\train\\images\\9c6d846fc0ad0080176c64e3a679fbc5_JPG.rf.0c29a119730f67fc181a943a6e49fb3e.jpg: ignoring corrupt image/label: non-normalized or out of bounds coordinates [1.0004336]\n",
      "\u001b[34m\u001b[1mtrain: \u001b[0mWARNING  C:\\Projects\\code review\\yolo-data\\train\\images\\a1bd0d799ecb06ead358ed46fd023f9f_JPG.rf.77e4c6226986939495fcb0b14e58970b.jpg: ignoring corrupt image/label: non-normalized or out of bounds coordinates [1.0004336]\n",
      "\u001b[34m\u001b[1mtrain: \u001b[0mWARNING  C:\\Projects\\code review\\yolo-data\\train\\images\\a66ec27ef9bb50ff3b5a0088ffea6744_JPG.rf.3d30c6ee2c96473c407fe56ee8b31959.jpg: ignoring corrupt image/label: non-normalized or out of bounds coordinates [1.0004336]\n",
      "\u001b[34m\u001b[1mtrain: \u001b[0mWARNING  C:\\Projects\\code review\\yolo-data\\train\\images\\a6f6869785d2790c400a88baa7930f19_JPG.rf.fdd058a6fadf525712fbd3085b7d0468.jpg: ignoring corrupt image/label: non-normalized or out of bounds coordinates [1.0004336]\n",
      "\u001b[34m\u001b[1mtrain: \u001b[0mWARNING  C:\\Projects\\code review\\yolo-data\\train\\images\\a753bbd1237f6f635cbf919254c49ea6_JPG.rf.8567557e754becffb92cd784a7800057.jpg: ignoring corrupt image/label: non-normalized or out of bounds coordinates [1.0004336]\n",
      "\u001b[34m\u001b[1mtrain: \u001b[0mWARNING  C:\\Projects\\code review\\yolo-data\\train\\images\\ae4a44ad14fd13b41d71c075b36b4637_JPG.rf.2dbebb6ee92b047f7cba7db00a97e224.jpg: ignoring corrupt image/label: non-normalized or out of bounds coordinates [1.0004336]\n",
      "\u001b[34m\u001b[1mtrain: \u001b[0mWARNING  C:\\Projects\\code review\\yolo-data\\train\\images\\b66673c635d1b4b4b1934730cb0ca0d4_JPG.rf.309232b0a805894db08ab48d799b6b1f.jpg: ignoring corrupt image/label: non-normalized or out of bounds coordinates [1.0004336]\n",
      "\u001b[34m\u001b[1mtrain: \u001b[0mWARNING  C:\\Projects\\code review\\yolo-data\\train\\images\\b6ae92de8c179d2772d24a8e7a6f0f15_JPG.rf.d162674784aacd4280ee435e5563051d.jpg: ignoring corrupt image/label: non-normalized or out of bounds coordinates [1.0004336]\n",
      "\u001b[34m\u001b[1mtrain: \u001b[0mWARNING  C:\\Projects\\code review\\yolo-data\\train\\images\\b8b9b8559393c49d86c2f2c9e15730b5_JPG.rf.fc6ffd38c003a1ea5826c6720109f3c5.jpg: ignoring corrupt image/label: non-normalized or out of bounds coordinates [1.0004336]\n",
      "\u001b[34m\u001b[1mtrain: \u001b[0mWARNING  C:\\Projects\\code review\\yolo-data\\train\\images\\b8f011a025c94dbbc6b76c1fcdbe1ebc_JPG.rf.13140bdfd60c4c875bd1bb075d373ff5.jpg: ignoring corrupt image/label: non-normalized or out of bounds coordinates [1.0004336]\n",
      "\u001b[34m\u001b[1mtrain: \u001b[0mWARNING  C:\\Projects\\code review\\yolo-data\\train\\images\\bdd5b9901bbc6be731447d1245611d41_JPG.rf.5460ae5c5d1b9190799e59c311268ca8.jpg: ignoring corrupt image/label: non-normalized or out of bounds coordinates [1.0004336]\n",
      "\u001b[34m\u001b[1mtrain: \u001b[0mWARNING  C:\\Projects\\code review\\yolo-data\\train\\images\\bf4dd83834c4d7b24a52c11d91345c5e_JPG.rf.353005102e3595a3e3572cb3d8444066.jpg: ignoring corrupt image/label: non-normalized or out of bounds coordinates [1.0004336]\n",
      "\u001b[34m\u001b[1mtrain: \u001b[0mWARNING  C:\\Projects\\code review\\yolo-data\\train\\images\\c0ca7cf2e6865bec52002dad071cdd4c_JPG.rf.12a7c467c52212bed81310d9232db738.jpg: ignoring corrupt image/label: non-normalized or out of bounds coordinates [1.0004336]\n",
      "\u001b[34m\u001b[1mtrain: \u001b[0mWARNING  C:\\Projects\\code review\\yolo-data\\train\\images\\c980dea742972b75943c8201034e31bf_JPG.rf.a3fe2eac34150261a5a53a0cf804fec9.jpg: ignoring corrupt image/label: non-normalized or out of bounds coordinates [1.0004336]\n",
      "\u001b[34m\u001b[1mtrain: \u001b[0mWARNING  C:\\Projects\\code review\\yolo-data\\train\\images\\ca860d0ad8df6cec54e095378f623767_JPG.rf.4b06d588fffa4b6838e5caffa8c02a2f.jpg: ignoring corrupt image/label: non-normalized or out of bounds coordinates [1.0004336]\n",
      "\u001b[34m\u001b[1mtrain: \u001b[0mWARNING  C:\\Projects\\code review\\yolo-data\\train\\images\\ca860d0ad8df6cec54e095378f623767_JPG.rf.ebaf4b16bf53f3a6c803a628bc55e946.jpg: ignoring corrupt image/label: non-normalized or out of bounds coordinates [1.0004336]\n",
      "\u001b[34m\u001b[1mtrain: \u001b[0mWARNING  C:\\Projects\\code review\\yolo-data\\train\\images\\cae32795aad326b8b3ee63d60b3c744e_JPG.rf.50563cba71d2ef489d2f0feceed3dc57.jpg: ignoring corrupt image/label: non-normalized or out of bounds coordinates [1.0004336]\n",
      "\u001b[34m\u001b[1mtrain: \u001b[0mWARNING  C:\\Projects\\code review\\yolo-data\\train\\images\\cec7964b27a7944b6af869e543785cae_JPG.rf.c38f13ff1639b0f82a722fb75781c938.jpg: ignoring corrupt image/label: non-normalized or out of bounds coordinates [1.0004336]\n",
      "\u001b[34m\u001b[1mtrain: \u001b[0mWARNING  C:\\Projects\\code review\\yolo-data\\train\\images\\d1c454efc146e54f1536218433bc4865_JPG.rf.a5400b8907532168cde86f57bbe20592.jpg: ignoring corrupt image/label: non-normalized or out of bounds coordinates [1.0004336]\n",
      "\u001b[34m\u001b[1mtrain: \u001b[0mWARNING  C:\\Projects\\code review\\yolo-data\\train\\images\\d2612382160cc452480dae2a29a7daa6_JPG.rf.0651ad17c78200fbcaefe55bc9b22ae5.jpg: ignoring corrupt image/label: non-normalized or out of bounds coordinates [1.0004336]\n",
      "\u001b[34m\u001b[1mtrain: \u001b[0mWARNING  C:\\Projects\\code review\\yolo-data\\train\\images\\d5ece96370746b0c7f49bb660146a2cb_JPG.rf.7302c27f485b7cff2d9f367bf9c15f45.jpg: ignoring corrupt image/label: non-normalized or out of bounds coordinates [1.0004336]\n",
      "\u001b[34m\u001b[1mtrain: \u001b[0mWARNING  C:\\Projects\\code review\\yolo-data\\train\\images\\d7f66f9f943adc7088213e7958428be3_JPG.rf.c11c2d7ef3564d970e4b5dc406779990.jpg: ignoring corrupt image/label: non-normalized or out of bounds coordinates [1.0004336]\n",
      "\u001b[34m\u001b[1mtrain: \u001b[0mWARNING  C:\\Projects\\code review\\yolo-data\\train\\images\\da75322c8c3c48a171269a7c87567e55_JPG.rf.58c47c63fde5a4f91b7e9bf6a0eae502.jpg: ignoring corrupt image/label: non-normalized or out of bounds coordinates [1.0004336]\n",
      "\u001b[34m\u001b[1mtrain: \u001b[0mWARNING  C:\\Projects\\code review\\yolo-data\\train\\images\\dd8cddc9774f72bcdfd7349d631cd174_JPG.rf.62f5088e10e9f1529cf620a0b0f5f39b.jpg: ignoring corrupt image/label: non-normalized or out of bounds coordinates [1.0004336]\n",
      "\u001b[34m\u001b[1mtrain: \u001b[0mWARNING  C:\\Projects\\code review\\yolo-data\\train\\images\\e67bbe104edd05c0d58d0daf15ac9d41_JPG.rf.6b854f996493b59c43504bb1c2fd904f.jpg: ignoring corrupt image/label: non-normalized or out of bounds coordinates [1.0004336]\n",
      "\u001b[34m\u001b[1mtrain: \u001b[0mWARNING  C:\\Projects\\code review\\yolo-data\\train\\images\\eacf63f73275369e9add9f327a75a3e3_JPG.rf.a9620c0d070ae7481a0ecb670dda40f5.jpg: ignoring corrupt image/label: non-normalized or out of bounds coordinates [1.0004336]\n",
      "\u001b[34m\u001b[1mtrain: \u001b[0mWARNING  C:\\Projects\\code review\\yolo-data\\train\\images\\ef5b6476e0d5e1d479e231ea9659c99b_JPG.rf.0a15159123c2f67a3539fe2bad57f587.jpg: ignoring corrupt image/label: non-normalized or out of bounds coordinates [1.0004336]\n",
      "\u001b[34m\u001b[1mtrain: \u001b[0mWARNING  C:\\Projects\\code review\\yolo-data\\train\\images\\f1bf08b8f1a1093b0438702f6ad46b4d_JPG.rf.7e5eac78257cf0f0954eb0afd8c58da9.jpg: ignoring corrupt image/label: non-normalized or out of bounds coordinates [1.0004336]\n",
      "\u001b[34m\u001b[1mtrain: \u001b[0mWARNING  C:\\Projects\\code review\\yolo-data\\train\\images\\f966698858c9fd74bb73b7bb22c97403_JPG.rf.8231b20fb0d5cd7fbe7abddb7ec46a29.jpg: ignoring corrupt image/label: non-normalized or out of bounds coordinates [1.0004336]\n",
      "\u001b[34m\u001b[1mtrain: \u001b[0mWARNING  C:\\Projects\\code review\\yolo-data\\train\\images\\fa4924719d9c4a3ed7acb73912dfc1eb_JPG.rf.ed34983516098d93cbf95174b91a0379.jpg: ignoring corrupt image/label: non-normalized or out of bounds coordinates [1.0004336]\n",
      "\u001b[34m\u001b[1mtrain: \u001b[0mWARNING  C:\\Projects\\code review\\yolo-data\\train\\images\\fbcfeb003c1005cec2beca19287cb3a5_JPG.rf.61f59cde40d4ac2af083185822c210cb.jpg: ignoring corrupt image/label: non-normalized or out of bounds coordinates [1.0004336]\n",
      "\u001b[34m\u001b[1mtrain: \u001b[0mWARNING  C:\\Projects\\code review\\yolo-data\\train\\images\\fc5fa40a4c3af7bfa7e6928e698ae1bd_JPG.rf.8e012b5df10b3de5b83e02d7ef194635.jpg: ignoring corrupt image/label: non-normalized or out of bounds coordinates [1.0004336]\n",
      "\u001b[34m\u001b[1mtrain: \u001b[0mWARNING  C:\\Projects\\code review\\yolo-data\\train\\images\\fe7043509191da0a5055069bfab20632_JPG.rf.9c034cd1bbf156abc5cde0143db07992.jpg: ignoring corrupt image/label: non-normalized or out of bounds coordinates [1.0004336]\n"
     ]
    },
    {
     "name": "stderr",
     "output_type": "stream",
     "text": [
      "\n",
      "\u001b[34m\u001b[1mval: \u001b[0mScanning C:\\Projects\\code review\\yolo-data\\val\\labels.cache... 4557 images, 1 backgrounds, 0 corrupt: 100%|██████████| 4557/4557 [00:00<?, ?it/s]\n"
     ]
    },
    {
     "name": "stdout",
     "output_type": "stream",
     "text": [
      "Plotting labels to runs\\segment\\train6\\labels.jpg... \n",
      "\u001b[34m\u001b[1moptimizer:\u001b[0m Adam(lr=0.0001, momentum=0.937) with parameter groups 176 weight(decay=0.0), 187 weight(decay=0.001), 186 bias(decay=0.0)\n",
      "Image sizes 224 train, 224 val\n",
      "Using 8 dataloader workers\n",
      "Logging results to \u001b[1mruns\\segment\\train6\u001b[0m\n",
      "Starting training for 50 epochs...\n",
      "\n",
      "      Epoch    GPU_mem   box_loss   seg_loss   cls_loss   dfl_loss  Instances       Size\n"
     ]
    },
    {
     "name": "stderr",
     "output_type": "stream",
     "text": [
      "       1/50      11.5G     0.7257      1.318     0.5527      0.959         55        224: 100%|██████████| 787/787 [07:12<00:00,  1.82it/s]\n",
      "                 Class     Images  Instances      Box(P          R      mAP50  mAP50-95)     Mask(P          R      mAP50  mAP50-95): 100%|██████████| 18/18 [00:19<00:00,  1.09s/it]"
     ]
    },
    {
     "name": "stdout",
     "output_type": "stream",
     "text": [
      "                   all       4557       5070       0.95      0.833      0.905      0.742       0.94      0.818      0.882      0.584\n"
     ]
    },
    {
     "name": "stderr",
     "output_type": "stream",
     "text": [
      "\n"
     ]
    },
    {
     "name": "stdout",
     "output_type": "stream",
     "text": [
      "\n",
      "      Epoch    GPU_mem   box_loss   seg_loss   cls_loss   dfl_loss  Instances       Size\n"
     ]
    },
    {
     "name": "stderr",
     "output_type": "stream",
     "text": [
      "       2/50      11.7G     0.6605      1.153     0.4497      0.928         57        224: 100%|██████████| 787/787 [07:02<00:00,  1.86it/s]\n",
      "                 Class     Images  Instances      Box(P          R      mAP50  mAP50-95)     Mask(P          R      mAP50  mAP50-95): 100%|██████████| 18/18 [00:19<00:00,  1.06s/it]"
     ]
    },
    {
     "name": "stdout",
     "output_type": "stream",
     "text": [
      "                   all       4557       5070      0.967      0.912      0.954      0.816      0.962      0.901      0.939      0.663\n"
     ]
    },
    {
     "name": "stderr",
     "output_type": "stream",
     "text": [
      "\n"
     ]
    },
    {
     "name": "stdout",
     "output_type": "stream",
     "text": [
      "\n",
      "      Epoch    GPU_mem   box_loss   seg_loss   cls_loss   dfl_loss  Instances       Size\n"
     ]
    },
    {
     "name": "stderr",
     "output_type": "stream",
     "text": [
      "       3/50      11.6G     0.6403      1.104     0.4273     0.9209         51        224: 100%|██████████| 787/787 [07:03<00:00,  1.86it/s]\n",
      "                 Class     Images  Instances      Box(P          R      mAP50  mAP50-95)     Mask(P          R      mAP50  mAP50-95): 100%|██████████| 18/18 [00:19<00:00,  1.09s/it]"
     ]
    },
    {
     "name": "stdout",
     "output_type": "stream",
     "text": [
      "                   all       4557       5070      0.974      0.912      0.956      0.834      0.966      0.904      0.946      0.721\n"
     ]
    },
    {
     "name": "stderr",
     "output_type": "stream",
     "text": [
      "\n"
     ]
    },
    {
     "name": "stdout",
     "output_type": "stream",
     "text": [
      "\n",
      "      Epoch    GPU_mem   box_loss   seg_loss   cls_loss   dfl_loss  Instances       Size\n"
     ]
    },
    {
     "name": "stderr",
     "output_type": "stream",
     "text": [
      "       4/50      11.7G     0.6234      1.069     0.4079     0.9124         60        224: 100%|██████████| 787/787 [07:12<00:00,  1.82it/s]\n",
      "                 Class     Images  Instances      Box(P          R      mAP50  mAP50-95)     Mask(P          R      mAP50  mAP50-95): 100%|██████████| 18/18 [00:24<00:00,  1.36s/it]\n"
     ]
    },
    {
     "name": "stdout",
     "output_type": "stream",
     "text": [
      "                   all       4557       5070      0.977      0.925       0.96      0.843      0.973      0.918      0.951      0.709\n",
      "\n",
      "      Epoch    GPU_mem   box_loss   seg_loss   cls_loss   dfl_loss  Instances       Size\n"
     ]
    },
    {
     "name": "stderr",
     "output_type": "stream",
     "text": [
      "       5/50      11.7G     0.6061      1.037     0.3921     0.9066         55        224: 100%|██████████| 787/787 [10:41<00:00,  1.23it/s]\n",
      "                 Class     Images  Instances      Box(P          R      mAP50  mAP50-95)     Mask(P          R      mAP50  mAP50-95): 100%|██████████| 18/18 [00:36<00:00,  2.03s/it]"
     ]
    },
    {
     "name": "stdout",
     "output_type": "stream",
     "text": [
      "                   all       4557       5070      0.983      0.926      0.964      0.853      0.973      0.915       0.95      0.712\n"
     ]
    },
    {
     "name": "stderr",
     "output_type": "stream",
     "text": [
      "\n"
     ]
    },
    {
     "name": "stdout",
     "output_type": "stream",
     "text": [
      "\n",
      "      Epoch    GPU_mem   box_loss   seg_loss   cls_loss   dfl_loss  Instances       Size\n"
     ]
    },
    {
     "name": "stderr",
     "output_type": "stream",
     "text": [
      "       6/50      11.7G     0.5959      1.022     0.3809     0.9036         55        224: 100%|██████████| 787/787 [11:20<00:00,  1.16it/s]\n",
      "                 Class     Images  Instances      Box(P          R      mAP50  mAP50-95)     Mask(P          R      mAP50  mAP50-95): 100%|██████████| 18/18 [00:21<00:00,  1.20s/it]"
     ]
    },
    {
     "name": "stdout",
     "output_type": "stream",
     "text": [
      "                   all       4557       5070      0.982      0.937      0.969      0.859      0.973      0.923      0.953      0.713\n"
     ]
    },
    {
     "name": "stderr",
     "output_type": "stream",
     "text": [
      "\n"
     ]
    },
    {
     "name": "stdout",
     "output_type": "stream",
     "text": [
      "\n",
      "      Epoch    GPU_mem   box_loss   seg_loss   cls_loss   dfl_loss  Instances       Size\n"
     ]
    },
    {
     "name": "stderr",
     "output_type": "stream",
     "text": [
      "       7/50      11.7G      0.587      1.006     0.3731     0.9015         56        224: 100%|██████████| 787/787 [07:10<00:00,  1.83it/s]\n",
      "                 Class     Images  Instances      Box(P          R      mAP50  mAP50-95)     Mask(P          R      mAP50  mAP50-95): 100%|██████████| 18/18 [00:18<00:00,  1.05s/it]"
     ]
    },
    {
     "name": "stdout",
     "output_type": "stream",
     "text": [
      "                   all       4557       5070      0.985      0.938      0.972      0.872      0.974      0.927      0.959      0.734\n"
     ]
    },
    {
     "name": "stderr",
     "output_type": "stream",
     "text": [
      "\n"
     ]
    },
    {
     "name": "stdout",
     "output_type": "stream",
     "text": [
      "\n",
      "      Epoch    GPU_mem   box_loss   seg_loss   cls_loss   dfl_loss  Instances       Size\n"
     ]
    },
    {
     "name": "stderr",
     "output_type": "stream",
     "text": [
      "       8/50      11.7G     0.5797     0.9878     0.3651     0.8973         55        224: 100%|██████████| 787/787 [07:05<00:00,  1.85it/s]\n",
      "                 Class     Images  Instances      Box(P          R      mAP50  mAP50-95)     Mask(P          R      mAP50  mAP50-95): 100%|██████████| 18/18 [00:19<00:00,  1.07s/it]"
     ]
    },
    {
     "name": "stdout",
     "output_type": "stream",
     "text": [
      "                   all       4557       5070      0.983      0.943      0.974      0.875      0.977      0.929      0.962      0.743\n"
     ]
    },
    {
     "name": "stderr",
     "output_type": "stream",
     "text": [
      "\n"
     ]
    },
    {
     "name": "stdout",
     "output_type": "stream",
     "text": [
      "\n",
      "      Epoch    GPU_mem   box_loss   seg_loss   cls_loss   dfl_loss  Instances       Size\n"
     ]
    },
    {
     "name": "stderr",
     "output_type": "stream",
     "text": [
      "       9/50      11.7G     0.5713     0.9771     0.3583     0.8953         61        224: 100%|██████████| 787/787 [07:06<00:00,  1.85it/s]\n",
      "                 Class     Images  Instances      Box(P          R      mAP50  mAP50-95)     Mask(P          R      mAP50  mAP50-95): 100%|██████████| 18/18 [00:19<00:00,  1.09s/it]"
     ]
    },
    {
     "name": "stdout",
     "output_type": "stream",
     "text": [
      "                   all       4557       5070      0.985       0.95      0.975       0.88      0.978      0.938      0.965      0.742\n"
     ]
    },
    {
     "name": "stderr",
     "output_type": "stream",
     "text": [
      "\n"
     ]
    },
    {
     "name": "stdout",
     "output_type": "stream",
     "text": [
      "\n",
      "      Epoch    GPU_mem   box_loss   seg_loss   cls_loss   dfl_loss  Instances       Size\n"
     ]
    },
    {
     "name": "stderr",
     "output_type": "stream",
     "text": [
      "      10/50      11.6G     0.5657     0.9645     0.3527     0.8943         43        224: 100%|██████████| 787/787 [07:04<00:00,  1.86it/s]\n",
      "                 Class     Images  Instances      Box(P          R      mAP50  mAP50-95)     Mask(P          R      mAP50  mAP50-95): 100%|██████████| 18/18 [00:19<00:00,  1.06s/it]"
     ]
    },
    {
     "name": "stdout",
     "output_type": "stream",
     "text": [
      "                   all       4557       5070      0.987      0.951      0.979       0.89      0.982      0.934      0.965      0.747\n"
     ]
    },
    {
     "name": "stderr",
     "output_type": "stream",
     "text": [
      "\n"
     ]
    },
    {
     "name": "stdout",
     "output_type": "stream",
     "text": [
      "\n",
      "      Epoch    GPU_mem   box_loss   seg_loss   cls_loss   dfl_loss  Instances       Size\n"
     ]
    },
    {
     "name": "stderr",
     "output_type": "stream",
     "text": [
      "      11/50      11.7G     0.5583     0.9549     0.3461     0.8909         66        224: 100%|██████████| 787/787 [07:04<00:00,  1.85it/s]\n",
      "                 Class     Images  Instances      Box(P          R      mAP50  mAP50-95)     Mask(P          R      mAP50  mAP50-95): 100%|██████████| 18/18 [00:19<00:00,  1.08s/it]"
     ]
    },
    {
     "name": "stdout",
     "output_type": "stream",
     "text": [
      "                   all       4557       5070      0.992       0.95      0.979       0.89       0.98      0.937      0.965      0.751\n"
     ]
    },
    {
     "name": "stderr",
     "output_type": "stream",
     "text": [
      "\n"
     ]
    },
    {
     "name": "stdout",
     "output_type": "stream",
     "text": [
      "\n",
      "      Epoch    GPU_mem   box_loss   seg_loss   cls_loss   dfl_loss  Instances       Size\n"
     ]
    },
    {
     "name": "stderr",
     "output_type": "stream",
     "text": [
      "      12/50      11.7G     0.5553     0.9476     0.3427       0.89         56        224: 100%|██████████| 787/787 [07:13<00:00,  1.81it/s]\n",
      "                 Class     Images  Instances      Box(P          R      mAP50  mAP50-95)     Mask(P          R      mAP50  mAP50-95): 100%|██████████| 18/18 [00:20<00:00,  1.14s/it]"
     ]
    },
    {
     "name": "stdout",
     "output_type": "stream",
     "text": [
      "                   all       4557       5070      0.991      0.952      0.981      0.895      0.981      0.937      0.967      0.759\n"
     ]
    },
    {
     "name": "stderr",
     "output_type": "stream",
     "text": [
      "\n"
     ]
    },
    {
     "name": "stdout",
     "output_type": "stream",
     "text": [
      "\n",
      "      Epoch    GPU_mem   box_loss   seg_loss   cls_loss   dfl_loss  Instances       Size\n"
     ]
    },
    {
     "name": "stderr",
     "output_type": "stream",
     "text": [
      "      13/50      11.7G     0.5487     0.9332     0.3355     0.8894         49        224: 100%|██████████| 787/787 [07:30<00:00,  1.75it/s]\n",
      "                 Class     Images  Instances      Box(P          R      mAP50  mAP50-95)     Mask(P          R      mAP50  mAP50-95): 100%|██████████| 18/18 [00:19<00:00,  1.08s/it]"
     ]
    },
    {
     "name": "stdout",
     "output_type": "stream",
     "text": [
      "                   all       4557       5070      0.991      0.955      0.983      0.899      0.981      0.942       0.97      0.763\n"
     ]
    },
    {
     "name": "stderr",
     "output_type": "stream",
     "text": [
      "\n"
     ]
    },
    {
     "name": "stdout",
     "output_type": "stream",
     "text": [
      "\n",
      "      Epoch    GPU_mem   box_loss   seg_loss   cls_loss   dfl_loss  Instances       Size\n"
     ]
    },
    {
     "name": "stderr",
     "output_type": "stream",
     "text": [
      "      14/50      11.7G      0.543     0.9312     0.3309     0.8878         59        224: 100%|██████████| 787/787 [07:15<00:00,  1.81it/s]\n",
      "                 Class     Images  Instances      Box(P          R      mAP50  mAP50-95)     Mask(P          R      mAP50  mAP50-95): 100%|██████████| 18/18 [00:22<00:00,  1.25s/it]"
     ]
    },
    {
     "name": "stdout",
     "output_type": "stream",
     "text": [
      "                   all       4557       5070      0.991      0.955      0.982      0.901      0.983      0.939       0.97      0.761\n"
     ]
    },
    {
     "name": "stderr",
     "output_type": "stream",
     "text": [
      "\n"
     ]
    },
    {
     "name": "stdout",
     "output_type": "stream",
     "text": [
      "\n",
      "      Epoch    GPU_mem   box_loss   seg_loss   cls_loss   dfl_loss  Instances       Size\n"
     ]
    },
    {
     "name": "stderr",
     "output_type": "stream",
     "text": [
      "      15/50      11.7G      0.539      0.923     0.3276     0.8858         54        224: 100%|██████████| 787/787 [07:35<00:00,  1.73it/s]\n",
      "                 Class     Images  Instances      Box(P          R      mAP50  mAP50-95)     Mask(P          R      mAP50  mAP50-95): 100%|██████████| 18/18 [00:19<00:00,  1.10s/it]"
     ]
    },
    {
     "name": "stdout",
     "output_type": "stream",
     "text": [
      "                   all       4557       5070      0.991       0.96      0.983      0.902       0.98      0.943      0.971      0.761\n"
     ]
    },
    {
     "name": "stderr",
     "output_type": "stream",
     "text": [
      "\n"
     ]
    },
    {
     "name": "stdout",
     "output_type": "stream",
     "text": [
      "\n",
      "      Epoch    GPU_mem   box_loss   seg_loss   cls_loss   dfl_loss  Instances       Size\n"
     ]
    },
    {
     "name": "stderr",
     "output_type": "stream",
     "text": [
      "      16/50      11.7G     0.5358     0.9128     0.3256     0.8844         52        224: 100%|██████████| 787/787 [07:10<00:00,  1.83it/s]\n",
      "                 Class     Images  Instances      Box(P          R      mAP50  mAP50-95)     Mask(P          R      mAP50  mAP50-95): 100%|██████████| 18/18 [00:19<00:00,  1.10s/it]"
     ]
    },
    {
     "name": "stdout",
     "output_type": "stream",
     "text": [
      "                   all       4557       5070      0.993      0.957      0.985      0.904      0.979      0.942      0.968      0.756\n"
     ]
    },
    {
     "name": "stderr",
     "output_type": "stream",
     "text": [
      "\n"
     ]
    },
    {
     "name": "stdout",
     "output_type": "stream",
     "text": [
      "\n",
      "      Epoch    GPU_mem   box_loss   seg_loss   cls_loss   dfl_loss  Instances       Size\n"
     ]
    },
    {
     "name": "stderr",
     "output_type": "stream",
     "text": [
      "      17/50      11.7G     0.5313     0.9073      0.322     0.8822         49        224: 100%|██████████| 787/787 [07:09<00:00,  1.83it/s]\n",
      "                 Class     Images  Instances      Box(P          R      mAP50  mAP50-95)     Mask(P          R      mAP50  mAP50-95): 100%|██████████| 18/18 [00:19<00:00,  1.10s/it]"
     ]
    },
    {
     "name": "stdout",
     "output_type": "stream",
     "text": [
      "                   all       4557       5070      0.994      0.957      0.985      0.907      0.981      0.944      0.971      0.762\n"
     ]
    },
    {
     "name": "stderr",
     "output_type": "stream",
     "text": [
      "\n"
     ]
    },
    {
     "name": "stdout",
     "output_type": "stream",
     "text": [
      "\n",
      "      Epoch    GPU_mem   box_loss   seg_loss   cls_loss   dfl_loss  Instances       Size\n"
     ]
    },
    {
     "name": "stderr",
     "output_type": "stream",
     "text": [
      "      18/50      11.7G     0.5257     0.8979     0.3172     0.8813         62        224: 100%|██████████| 787/787 [07:09<00:00,  1.83it/s]\n",
      "                 Class     Images  Instances      Box(P          R      mAP50  mAP50-95)     Mask(P          R      mAP50  mAP50-95): 100%|██████████| 18/18 [00:19<00:00,  1.09s/it]"
     ]
    },
    {
     "name": "stdout",
     "output_type": "stream",
     "text": [
      "                   all       4557       5070      0.989       0.96      0.985      0.908      0.982      0.944      0.971      0.764\n"
     ]
    },
    {
     "name": "stderr",
     "output_type": "stream",
     "text": [
      "\n"
     ]
    },
    {
     "name": "stdout",
     "output_type": "stream",
     "text": [
      "\n",
      "      Epoch    GPU_mem   box_loss   seg_loss   cls_loss   dfl_loss  Instances       Size\n"
     ]
    },
    {
     "name": "stderr",
     "output_type": "stream",
     "text": [
      "      19/50      11.6G     0.5218     0.8949     0.3134      0.879         60        224: 100%|██████████| 787/787 [07:09<00:00,  1.83it/s]\n",
      "                 Class     Images  Instances      Box(P          R      mAP50  mAP50-95)     Mask(P          R      mAP50  mAP50-95): 100%|██████████| 18/18 [00:19<00:00,  1.09s/it]"
     ]
    },
    {
     "name": "stdout",
     "output_type": "stream",
     "text": [
      "                   all       4557       5070      0.992      0.959      0.985       0.91      0.984      0.945       0.97      0.766\n"
     ]
    },
    {
     "name": "stderr",
     "output_type": "stream",
     "text": [
      "\n"
     ]
    },
    {
     "name": "stdout",
     "output_type": "stream",
     "text": [
      "\n",
      "      Epoch    GPU_mem   box_loss   seg_loss   cls_loss   dfl_loss  Instances       Size\n"
     ]
    },
    {
     "name": "stderr",
     "output_type": "stream",
     "text": [
      "      20/50      11.7G     0.5195     0.8889     0.3114     0.8785         64        224: 100%|██████████| 787/787 [07:10<00:00,  1.83it/s]\n",
      "                 Class     Images  Instances      Box(P          R      mAP50  mAP50-95)     Mask(P          R      mAP50  mAP50-95): 100%|██████████| 18/18 [00:19<00:00,  1.10s/it]"
     ]
    },
    {
     "name": "stdout",
     "output_type": "stream",
     "text": [
      "                   all       4557       5070      0.993      0.959      0.986      0.911      0.982      0.947      0.972      0.767\n"
     ]
    },
    {
     "name": "stderr",
     "output_type": "stream",
     "text": [
      "\n"
     ]
    },
    {
     "name": "stdout",
     "output_type": "stream",
     "text": [
      "\n",
      "      Epoch    GPU_mem   box_loss   seg_loss   cls_loss   dfl_loss  Instances       Size\n"
     ]
    },
    {
     "name": "stderr",
     "output_type": "stream",
     "text": [
      "      21/50      11.7G     0.5145     0.8791      0.307     0.8781         54        224: 100%|██████████| 787/787 [07:09<00:00,  1.83it/s]\n",
      "                 Class     Images  Instances      Box(P          R      mAP50  mAP50-95)     Mask(P          R      mAP50  mAP50-95): 100%|██████████| 18/18 [00:19<00:00,  1.08s/it]"
     ]
    },
    {
     "name": "stdout",
     "output_type": "stream",
     "text": [
      "                   all       4557       5070      0.994      0.959      0.985      0.913      0.983      0.949      0.973      0.768\n"
     ]
    },
    {
     "name": "stderr",
     "output_type": "stream",
     "text": [
      "\n"
     ]
    },
    {
     "name": "stdout",
     "output_type": "stream",
     "text": [
      "\n",
      "      Epoch    GPU_mem   box_loss   seg_loss   cls_loss   dfl_loss  Instances       Size\n"
     ]
    },
    {
     "name": "stderr",
     "output_type": "stream",
     "text": [
      "      22/50      11.7G     0.5111     0.8761     0.3048     0.8752         62        224: 100%|██████████| 787/787 [07:10<00:00,  1.83it/s]\n",
      "                 Class     Images  Instances      Box(P          R      mAP50  mAP50-95)     Mask(P          R      mAP50  mAP50-95): 100%|██████████| 18/18 [00:19<00:00,  1.09s/it]"
     ]
    },
    {
     "name": "stdout",
     "output_type": "stream",
     "text": [
      "                   all       4557       5070      0.993       0.96      0.986      0.914      0.985       0.95      0.973      0.768\n"
     ]
    },
    {
     "name": "stderr",
     "output_type": "stream",
     "text": [
      "\n"
     ]
    },
    {
     "name": "stdout",
     "output_type": "stream",
     "text": [
      "\n",
      "      Epoch    GPU_mem   box_loss   seg_loss   cls_loss   dfl_loss  Instances       Size\n"
     ]
    },
    {
     "name": "stderr",
     "output_type": "stream",
     "text": [
      "      23/50      11.7G     0.5062     0.8658     0.3009     0.8744         61        224: 100%|██████████| 787/787 [07:10<00:00,  1.83it/s]\n",
      "                 Class     Images  Instances      Box(P          R      mAP50  mAP50-95)     Mask(P          R      mAP50  mAP50-95): 100%|██████████| 18/18 [00:19<00:00,  1.09s/it]"
     ]
    },
    {
     "name": "stdout",
     "output_type": "stream",
     "text": [
      "                   all       4557       5070      0.993      0.961      0.986      0.914      0.985       0.95      0.974      0.769\n"
     ]
    },
    {
     "name": "stderr",
     "output_type": "stream",
     "text": [
      "\n"
     ]
    },
    {
     "name": "stdout",
     "output_type": "stream",
     "text": [
      "\n",
      "      Epoch    GPU_mem   box_loss   seg_loss   cls_loss   dfl_loss  Instances       Size\n"
     ]
    },
    {
     "name": "stderr",
     "output_type": "stream",
     "text": [
      "      24/50      11.7G     0.5037     0.8605     0.2983     0.8726         63        224: 100%|██████████| 787/787 [07:08<00:00,  1.84it/s]\n",
      "                 Class     Images  Instances      Box(P          R      mAP50  mAP50-95)     Mask(P          R      mAP50  mAP50-95): 100%|██████████| 18/18 [00:19<00:00,  1.11s/it]"
     ]
    },
    {
     "name": "stdout",
     "output_type": "stream",
     "text": [
      "                   all       4557       5070      0.993      0.961      0.986      0.915      0.984       0.95      0.974      0.769\n"
     ]
    },
    {
     "name": "stderr",
     "output_type": "stream",
     "text": [
      "\n"
     ]
    },
    {
     "name": "stdout",
     "output_type": "stream",
     "text": [
      "\n",
      "      Epoch    GPU_mem   box_loss   seg_loss   cls_loss   dfl_loss  Instances       Size\n"
     ]
    },
    {
     "name": "stderr",
     "output_type": "stream",
     "text": [
      "      25/50      11.7G        0.5     0.8555     0.2958      0.872         43        224: 100%|██████████| 787/787 [07:09<00:00,  1.83it/s]\n",
      "                 Class     Images  Instances      Box(P          R      mAP50  mAP50-95)     Mask(P          R      mAP50  mAP50-95): 100%|██████████| 18/18 [00:19<00:00,  1.08s/it]"
     ]
    },
    {
     "name": "stdout",
     "output_type": "stream",
     "text": [
      "                   all       4557       5070      0.994      0.961      0.986      0.917      0.985      0.951      0.975      0.769\n"
     ]
    },
    {
     "name": "stderr",
     "output_type": "stream",
     "text": [
      "\n"
     ]
    },
    {
     "name": "stdout",
     "output_type": "stream",
     "text": [
      "\n",
      "      Epoch    GPU_mem   box_loss   seg_loss   cls_loss   dfl_loss  Instances       Size\n"
     ]
    },
    {
     "name": "stderr",
     "output_type": "stream",
     "text": [
      "      26/50      11.7G     0.4974     0.8504     0.2944     0.8715         59        224: 100%|██████████| 787/787 [07:09<00:00,  1.83it/s]\n",
      "                 Class     Images  Instances      Box(P          R      mAP50  mAP50-95)     Mask(P          R      mAP50  mAP50-95): 100%|██████████| 18/18 [00:19<00:00,  1.09s/it]"
     ]
    },
    {
     "name": "stdout",
     "output_type": "stream",
     "text": [
      "                   all       4557       5070      0.994      0.961      0.987      0.917      0.984      0.951      0.975       0.77\n"
     ]
    },
    {
     "name": "stderr",
     "output_type": "stream",
     "text": [
      "\n"
     ]
    },
    {
     "name": "stdout",
     "output_type": "stream",
     "text": [
      "\n",
      "      Epoch    GPU_mem   box_loss   seg_loss   cls_loss   dfl_loss  Instances       Size\n"
     ]
    },
    {
     "name": "stderr",
     "output_type": "stream",
     "text": [
      "      27/50      11.7G     0.4938     0.8445     0.2893     0.8706         63        224: 100%|██████████| 787/787 [07:09<00:00,  1.83it/s]\n",
      "                 Class     Images  Instances      Box(P          R      mAP50  mAP50-95)     Mask(P          R      mAP50  mAP50-95): 100%|██████████| 18/18 [00:19<00:00,  1.08s/it]"
     ]
    },
    {
     "name": "stdout",
     "output_type": "stream",
     "text": [
      "                   all       4557       5070      0.994      0.962      0.987      0.917      0.984      0.951      0.975      0.771\n"
     ]
    },
    {
     "name": "stderr",
     "output_type": "stream",
     "text": [
      "\n"
     ]
    },
    {
     "name": "stdout",
     "output_type": "stream",
     "text": [
      "\n",
      "      Epoch    GPU_mem   box_loss   seg_loss   cls_loss   dfl_loss  Instances       Size\n"
     ]
    },
    {
     "name": "stderr",
     "output_type": "stream",
     "text": [
      "      28/50      11.7G     0.4902     0.8412     0.2878     0.8701         51        224: 100%|██████████| 787/787 [07:08<00:00,  1.84it/s]\n",
      "                 Class     Images  Instances      Box(P          R      mAP50  mAP50-95)     Mask(P          R      mAP50  mAP50-95): 100%|██████████| 18/18 [00:19<00:00,  1.09s/it]"
     ]
    },
    {
     "name": "stdout",
     "output_type": "stream",
     "text": [
      "                   all       4557       5070      0.994      0.964      0.987      0.918      0.984      0.953      0.975      0.772\n"
     ]
    },
    {
     "name": "stderr",
     "output_type": "stream",
     "text": [
      "\n"
     ]
    },
    {
     "name": "stdout",
     "output_type": "stream",
     "text": [
      "\n",
      "      Epoch    GPU_mem   box_loss   seg_loss   cls_loss   dfl_loss  Instances       Size\n"
     ]
    },
    {
     "name": "stderr",
     "output_type": "stream",
     "text": [
      "      29/50      11.7G     0.4874     0.8343     0.2843     0.8694         59        224: 100%|██████████| 787/787 [07:09<00:00,  1.83it/s]\n",
      "                 Class     Images  Instances      Box(P          R      mAP50  mAP50-95)     Mask(P          R      mAP50  mAP50-95): 100%|██████████| 18/18 [00:19<00:00,  1.09s/it]"
     ]
    },
    {
     "name": "stdout",
     "output_type": "stream",
     "text": [
      "                   all       4557       5070      0.994      0.964      0.987      0.918      0.984      0.952      0.975      0.771\n"
     ]
    },
    {
     "name": "stderr",
     "output_type": "stream",
     "text": [
      "\n"
     ]
    },
    {
     "name": "stdout",
     "output_type": "stream",
     "text": [
      "\n",
      "      Epoch    GPU_mem   box_loss   seg_loss   cls_loss   dfl_loss  Instances       Size\n"
     ]
    },
    {
     "name": "stderr",
     "output_type": "stream",
     "text": [
      "      30/50      11.7G     0.4822      0.828     0.2799     0.8672         54        224: 100%|██████████| 787/787 [07:08<00:00,  1.84it/s]\n",
      "                 Class     Images  Instances      Box(P          R      mAP50  mAP50-95)     Mask(P          R      mAP50  mAP50-95): 100%|██████████| 18/18 [00:19<00:00,  1.09s/it]"
     ]
    },
    {
     "name": "stdout",
     "output_type": "stream",
     "text": [
      "                   all       4557       5070      0.994      0.964      0.987      0.919      0.984      0.952      0.975      0.772\n"
     ]
    },
    {
     "name": "stderr",
     "output_type": "stream",
     "text": [
      "\n"
     ]
    },
    {
     "name": "stdout",
     "output_type": "stream",
     "text": [
      "\n",
      "      Epoch    GPU_mem   box_loss   seg_loss   cls_loss   dfl_loss  Instances       Size\n"
     ]
    },
    {
     "name": "stderr",
     "output_type": "stream",
     "text": [
      "      31/50      11.7G     0.4777     0.8172     0.2775     0.8659         55        224: 100%|██████████| 787/787 [07:08<00:00,  1.83it/s]\n",
      "                 Class     Images  Instances      Box(P          R      mAP50  mAP50-95)     Mask(P          R      mAP50  mAP50-95): 100%|██████████| 18/18 [00:19<00:00,  1.08s/it]"
     ]
    },
    {
     "name": "stdout",
     "output_type": "stream",
     "text": [
      "                   all       4557       5070      0.993      0.965      0.987      0.919      0.983      0.952      0.975      0.772\n"
     ]
    },
    {
     "name": "stderr",
     "output_type": "stream",
     "text": [
      "\n"
     ]
    },
    {
     "name": "stdout",
     "output_type": "stream",
     "text": [
      "\n",
      "      Epoch    GPU_mem   box_loss   seg_loss   cls_loss   dfl_loss  Instances       Size\n"
     ]
    },
    {
     "name": "stderr",
     "output_type": "stream",
     "text": [
      "      32/50      11.7G     0.4745     0.8179     0.2745     0.8637         66        224: 100%|██████████| 787/787 [07:08<00:00,  1.84it/s]\n",
      "                 Class     Images  Instances      Box(P          R      mAP50  mAP50-95)     Mask(P          R      mAP50  mAP50-95): 100%|██████████| 18/18 [00:19<00:00,  1.09s/it]"
     ]
    },
    {
     "name": "stdout",
     "output_type": "stream",
     "text": [
      "                   all       4557       5070      0.993      0.965      0.987       0.92      0.984      0.952      0.976      0.774\n"
     ]
    },
    {
     "name": "stderr",
     "output_type": "stream",
     "text": [
      "\n"
     ]
    },
    {
     "name": "stdout",
     "output_type": "stream",
     "text": [
      "\n",
      "      Epoch    GPU_mem   box_loss   seg_loss   cls_loss   dfl_loss  Instances       Size\n"
     ]
    },
    {
     "name": "stderr",
     "output_type": "stream",
     "text": [
      "      33/50      11.7G     0.4714     0.8117     0.2714     0.8631         61        224: 100%|██████████| 787/787 [07:08<00:00,  1.84it/s]\n",
      "                 Class     Images  Instances      Box(P          R      mAP50  mAP50-95)     Mask(P          R      mAP50  mAP50-95): 100%|██████████| 18/18 [00:19<00:00,  1.08s/it]"
     ]
    },
    {
     "name": "stdout",
     "output_type": "stream",
     "text": [
      "                   all       4557       5070      0.991      0.967      0.987      0.921      0.984      0.952      0.976      0.775\n"
     ]
    },
    {
     "name": "stderr",
     "output_type": "stream",
     "text": [
      "\n"
     ]
    },
    {
     "name": "stdout",
     "output_type": "stream",
     "text": [
      "\n",
      "      Epoch    GPU_mem   box_loss   seg_loss   cls_loss   dfl_loss  Instances       Size\n"
     ]
    },
    {
     "name": "stderr",
     "output_type": "stream",
     "text": [
      "      34/50      11.7G     0.4681     0.8044     0.2698     0.8627         54        224: 100%|██████████| 787/787 [07:09<00:00,  1.83it/s]\n",
      "                 Class     Images  Instances      Box(P          R      mAP50  mAP50-95)     Mask(P          R      mAP50  mAP50-95): 100%|██████████| 18/18 [00:19<00:00,  1.09s/it]"
     ]
    },
    {
     "name": "stdout",
     "output_type": "stream",
     "text": [
      "                   all       4557       5070      0.991      0.967      0.987      0.922      0.985      0.952      0.976      0.774\n"
     ]
    },
    {
     "name": "stderr",
     "output_type": "stream",
     "text": [
      "\n"
     ]
    },
    {
     "name": "stdout",
     "output_type": "stream",
     "text": [
      "\n",
      "      Epoch    GPU_mem   box_loss   seg_loss   cls_loss   dfl_loss  Instances       Size\n"
     ]
    },
    {
     "name": "stderr",
     "output_type": "stream",
     "text": [
      "      35/50      11.7G     0.4652     0.8031     0.2659     0.8613         47        224: 100%|██████████| 787/787 [07:08<00:00,  1.83it/s]\n",
      "                 Class     Images  Instances      Box(P          R      mAP50  mAP50-95)     Mask(P          R      mAP50  mAP50-95): 100%|██████████| 18/18 [00:19<00:00,  1.10s/it]"
     ]
    },
    {
     "name": "stdout",
     "output_type": "stream",
     "text": [
      "                   all       4557       5070      0.993      0.966      0.987      0.922      0.985      0.952      0.976      0.774\n"
     ]
    },
    {
     "name": "stderr",
     "output_type": "stream",
     "text": [
      "\n"
     ]
    },
    {
     "name": "stdout",
     "output_type": "stream",
     "text": [
      "\n",
      "      Epoch    GPU_mem   box_loss   seg_loss   cls_loss   dfl_loss  Instances       Size\n"
     ]
    },
    {
     "name": "stderr",
     "output_type": "stream",
     "text": [
      "      36/50      11.7G     0.4604     0.7932     0.2635     0.8601         44        224: 100%|██████████| 787/787 [07:08<00:00,  1.84it/s]\n",
      "                 Class     Images  Instances      Box(P          R      mAP50  mAP50-95)     Mask(P          R      mAP50  mAP50-95): 100%|██████████| 18/18 [00:19<00:00,  1.08s/it]"
     ]
    },
    {
     "name": "stdout",
     "output_type": "stream",
     "text": [
      "                   all       4557       5070      0.993      0.967      0.988      0.923      0.986      0.951      0.976      0.775\n"
     ]
    },
    {
     "name": "stderr",
     "output_type": "stream",
     "text": [
      "\n"
     ]
    },
    {
     "name": "stdout",
     "output_type": "stream",
     "text": [
      "\n",
      "      Epoch    GPU_mem   box_loss   seg_loss   cls_loss   dfl_loss  Instances       Size\n"
     ]
    },
    {
     "name": "stderr",
     "output_type": "stream",
     "text": [
      "      37/50      11.7G     0.4582     0.7884     0.2623     0.8588         60        224: 100%|██████████| 787/787 [07:08<00:00,  1.84it/s]\n",
      "                 Class     Images  Instances      Box(P          R      mAP50  mAP50-95)     Mask(P          R      mAP50  mAP50-95): 100%|██████████| 18/18 [00:19<00:00,  1.08s/it]"
     ]
    },
    {
     "name": "stdout",
     "output_type": "stream",
     "text": [
      "                   all       4557       5070      0.992      0.968      0.988      0.923      0.985      0.952      0.976      0.775\n"
     ]
    },
    {
     "name": "stderr",
     "output_type": "stream",
     "text": [
      "\n"
     ]
    },
    {
     "name": "stdout",
     "output_type": "stream",
     "text": [
      "\n",
      "      Epoch    GPU_mem   box_loss   seg_loss   cls_loss   dfl_loss  Instances       Size\n"
     ]
    },
    {
     "name": "stderr",
     "output_type": "stream",
     "text": [
      "      38/50      11.7G      0.453     0.7837      0.258     0.8577         53        224: 100%|██████████| 787/787 [07:08<00:00,  1.84it/s]\n",
      "                 Class     Images  Instances      Box(P          R      mAP50  mAP50-95)     Mask(P          R      mAP50  mAP50-95): 100%|██████████| 18/18 [00:19<00:00,  1.09s/it]"
     ]
    },
    {
     "name": "stdout",
     "output_type": "stream",
     "text": [
      "                   all       4557       5070      0.992      0.968      0.988      0.924      0.985       0.95      0.976      0.776\n"
     ]
    },
    {
     "name": "stderr",
     "output_type": "stream",
     "text": [
      "\n"
     ]
    },
    {
     "name": "stdout",
     "output_type": "stream",
     "text": [
      "\n",
      "      Epoch    GPU_mem   box_loss   seg_loss   cls_loss   dfl_loss  Instances       Size\n"
     ]
    },
    {
     "name": "stderr",
     "output_type": "stream",
     "text": [
      "      39/50      11.7G     0.4508     0.7802      0.255     0.8575         59        224: 100%|██████████| 787/787 [07:08<00:00,  1.84it/s]\n",
      "                 Class     Images  Instances      Box(P          R      mAP50  mAP50-95)     Mask(P          R      mAP50  mAP50-95): 100%|██████████| 18/18 [00:19<00:00,  1.08s/it]"
     ]
    },
    {
     "name": "stdout",
     "output_type": "stream",
     "text": [
      "                   all       4557       5070      0.992      0.968      0.988      0.925      0.985       0.95      0.976      0.776\n"
     ]
    },
    {
     "name": "stderr",
     "output_type": "stream",
     "text": [
      "\n"
     ]
    },
    {
     "name": "stdout",
     "output_type": "stream",
     "text": [
      "\n",
      "      Epoch    GPU_mem   box_loss   seg_loss   cls_loss   dfl_loss  Instances       Size\n"
     ]
    },
    {
     "name": "stderr",
     "output_type": "stream",
     "text": [
      "      40/50      11.7G     0.4467     0.7734      0.252     0.8563         54        224: 100%|██████████| 787/787 [07:09<00:00,  1.83it/s]\n",
      "                 Class     Images  Instances      Box(P          R      mAP50  mAP50-95)     Mask(P          R      mAP50  mAP50-95): 100%|██████████| 18/18 [00:19<00:00,  1.08s/it]"
     ]
    },
    {
     "name": "stdout",
     "output_type": "stream",
     "text": [
      "                   all       4557       5070      0.992      0.968      0.988      0.926      0.985       0.95      0.976      0.777\n"
     ]
    },
    {
     "name": "stderr",
     "output_type": "stream",
     "text": [
      "\n"
     ]
    },
    {
     "name": "stdout",
     "output_type": "stream",
     "text": [
      "Closing dataloader mosaic\n",
      "\n",
      "      Epoch    GPU_mem   box_loss   seg_loss   cls_loss   dfl_loss  Instances       Size\n"
     ]
    },
    {
     "name": "stderr",
     "output_type": "stream",
     "text": [
      "      41/50      11.6G     0.4113     0.7446     0.2149     0.8336         25        224: 100%|██████████| 787/787 [07:10<00:00,  1.83it/s]\n",
      "                 Class     Images  Instances      Box(P          R      mAP50  mAP50-95)     Mask(P          R      mAP50  mAP50-95): 100%|██████████| 18/18 [00:19<00:00,  1.10s/it]"
     ]
    },
    {
     "name": "stdout",
     "output_type": "stream",
     "text": [
      "                   all       4557       5070      0.992      0.969      0.988      0.926      0.983      0.951      0.976      0.779\n"
     ]
    },
    {
     "name": "stderr",
     "output_type": "stream",
     "text": [
      "\n"
     ]
    },
    {
     "name": "stdout",
     "output_type": "stream",
     "text": [
      "\n",
      "      Epoch    GPU_mem   box_loss   seg_loss   cls_loss   dfl_loss  Instances       Size\n"
     ]
    },
    {
     "name": "stderr",
     "output_type": "stream",
     "text": [
      "      42/50      11.6G     0.4027     0.7318     0.2074     0.8287         25        224: 100%|██████████| 787/787 [07:10<00:00,  1.83it/s]\n",
      "                 Class     Images  Instances      Box(P          R      mAP50  mAP50-95)     Mask(P          R      mAP50  mAP50-95): 100%|██████████| 18/18 [00:19<00:00,  1.10s/it]"
     ]
    },
    {
     "name": "stdout",
     "output_type": "stream",
     "text": [
      "                   all       4557       5070      0.992       0.97      0.988      0.927      0.985      0.949      0.976      0.779\n"
     ]
    },
    {
     "name": "stderr",
     "output_type": "stream",
     "text": [
      "\n"
     ]
    },
    {
     "name": "stdout",
     "output_type": "stream",
     "text": [
      "\n",
      "      Epoch    GPU_mem   box_loss   seg_loss   cls_loss   dfl_loss  Instances       Size\n"
     ]
    },
    {
     "name": "stderr",
     "output_type": "stream",
     "text": [
      "      43/50      11.6G     0.3975     0.7243     0.2055     0.8297         24        224: 100%|██████████| 787/787 [07:10<00:00,  1.83it/s]\n",
      "                 Class     Images  Instances      Box(P          R      mAP50  mAP50-95)     Mask(P          R      mAP50  mAP50-95): 100%|██████████| 18/18 [00:19<00:00,  1.07s/it]"
     ]
    },
    {
     "name": "stdout",
     "output_type": "stream",
     "text": [
      "                   all       4557       5070      0.991       0.97      0.988      0.927      0.986       0.95      0.977      0.781\n"
     ]
    },
    {
     "name": "stderr",
     "output_type": "stream",
     "text": [
      "\n"
     ]
    },
    {
     "name": "stdout",
     "output_type": "stream",
     "text": [
      "\n",
      "      Epoch    GPU_mem   box_loss   seg_loss   cls_loss   dfl_loss  Instances       Size\n"
     ]
    },
    {
     "name": "stderr",
     "output_type": "stream",
     "text": [
      "      44/50      11.6G     0.3916     0.7145     0.2013     0.8278         23        224: 100%|██████████| 787/787 [07:09<00:00,  1.83it/s]\n",
      "                 Class     Images  Instances      Box(P          R      mAP50  mAP50-95)     Mask(P          R      mAP50  mAP50-95): 100%|██████████| 18/18 [00:19<00:00,  1.10s/it]"
     ]
    },
    {
     "name": "stdout",
     "output_type": "stream",
     "text": [
      "                   all       4557       5070      0.991       0.97      0.988      0.928      0.984      0.951      0.977      0.782\n"
     ]
    },
    {
     "name": "stderr",
     "output_type": "stream",
     "text": [
      "\n"
     ]
    },
    {
     "name": "stdout",
     "output_type": "stream",
     "text": [
      "\n",
      "      Epoch    GPU_mem   box_loss   seg_loss   cls_loss   dfl_loss  Instances       Size\n"
     ]
    },
    {
     "name": "stderr",
     "output_type": "stream",
     "text": [
      "      45/50      11.6G     0.3863     0.7098     0.1971     0.8249         26        224: 100%|██████████| 787/787 [07:09<00:00,  1.83it/s]\n",
      "                 Class     Images  Instances      Box(P          R      mAP50  mAP50-95)     Mask(P          R      mAP50  mAP50-95): 100%|██████████| 18/18 [00:20<00:00,  1.12s/it]"
     ]
    },
    {
     "name": "stdout",
     "output_type": "stream",
     "text": [
      "                   all       4557       5070       0.99      0.971      0.989      0.929      0.986       0.95      0.978      0.782\n"
     ]
    },
    {
     "name": "stderr",
     "output_type": "stream",
     "text": [
      "\n"
     ]
    },
    {
     "name": "stdout",
     "output_type": "stream",
     "text": [
      "\n",
      "      Epoch    GPU_mem   box_loss   seg_loss   cls_loss   dfl_loss  Instances       Size\n"
     ]
    },
    {
     "name": "stderr",
     "output_type": "stream",
     "text": [
      "      46/50      11.6G     0.3805     0.7027     0.1921     0.8232         21        224: 100%|██████████| 787/787 [07:08<00:00,  1.84it/s]\n",
      "                 Class     Images  Instances      Box(P          R      mAP50  mAP50-95)     Mask(P          R      mAP50  mAP50-95): 100%|██████████| 18/18 [00:19<00:00,  1.09s/it]"
     ]
    },
    {
     "name": "stdout",
     "output_type": "stream",
     "text": [
      "                   all       4557       5070       0.99      0.972      0.989       0.93      0.986      0.949      0.977      0.783\n"
     ]
    },
    {
     "name": "stderr",
     "output_type": "stream",
     "text": [
      "\n"
     ]
    },
    {
     "name": "stdout",
     "output_type": "stream",
     "text": [
      "\n",
      "      Epoch    GPU_mem   box_loss   seg_loss   cls_loss   dfl_loss  Instances       Size\n"
     ]
    },
    {
     "name": "stderr",
     "output_type": "stream",
     "text": [
      "      47/50      11.6G     0.3767     0.7023     0.1892     0.8211         25        224: 100%|██████████| 787/787 [07:08<00:00,  1.84it/s]\n",
      "                 Class     Images  Instances      Box(P          R      mAP50  mAP50-95)     Mask(P          R      mAP50  mAP50-95): 100%|██████████| 18/18 [00:19<00:00,  1.10s/it]"
     ]
    },
    {
     "name": "stdout",
     "output_type": "stream",
     "text": [
      "                   all       4557       5070       0.99      0.972      0.989      0.931      0.984      0.952      0.977      0.783\n"
     ]
    },
    {
     "name": "stderr",
     "output_type": "stream",
     "text": [
      "\n"
     ]
    },
    {
     "name": "stdout",
     "output_type": "stream",
     "text": [
      "\n",
      "      Epoch    GPU_mem   box_loss   seg_loss   cls_loss   dfl_loss  Instances       Size\n"
     ]
    },
    {
     "name": "stderr",
     "output_type": "stream",
     "text": [
      "      48/50      11.6G     0.3704     0.6917     0.1858     0.8192         23        224: 100%|██████████| 787/787 [07:09<00:00,  1.83it/s]\n",
      "                 Class     Images  Instances      Box(P          R      mAP50  mAP50-95)     Mask(P          R      mAP50  mAP50-95): 100%|██████████| 18/18 [00:19<00:00,  1.08s/it]"
     ]
    },
    {
     "name": "stdout",
     "output_type": "stream",
     "text": [
      "                   all       4557       5070       0.99      0.972      0.989      0.932      0.983      0.952      0.977      0.785\n"
     ]
    },
    {
     "name": "stderr",
     "output_type": "stream",
     "text": [
      "\n"
     ]
    },
    {
     "name": "stdout",
     "output_type": "stream",
     "text": [
      "\n",
      "      Epoch    GPU_mem   box_loss   seg_loss   cls_loss   dfl_loss  Instances       Size\n"
     ]
    },
    {
     "name": "stderr",
     "output_type": "stream",
     "text": [
      "      49/50      11.6G     0.3657     0.6885      0.182     0.8182         24        224: 100%|██████████| 787/787 [07:08<00:00,  1.84it/s]\n",
      "                 Class     Images  Instances      Box(P          R      mAP50  mAP50-95)     Mask(P          R      mAP50  mAP50-95): 100%|██████████| 18/18 [00:19<00:00,  1.08s/it]"
     ]
    },
    {
     "name": "stdout",
     "output_type": "stream",
     "text": [
      "                   all       4557       5070      0.991      0.972      0.989      0.932      0.984      0.952      0.978      0.786\n"
     ]
    },
    {
     "name": "stderr",
     "output_type": "stream",
     "text": [
      "\n"
     ]
    },
    {
     "name": "stdout",
     "output_type": "stream",
     "text": [
      "\n",
      "      Epoch    GPU_mem   box_loss   seg_loss   cls_loss   dfl_loss  Instances       Size\n"
     ]
    },
    {
     "name": "stderr",
     "output_type": "stream",
     "text": [
      "      50/50      11.6G     0.3623     0.6824     0.1797     0.8172         23        224: 100%|██████████| 787/787 [07:08<00:00,  1.84it/s]\n",
      "                 Class     Images  Instances      Box(P          R      mAP50  mAP50-95)     Mask(P          R      mAP50  mAP50-95): 100%|██████████| 18/18 [00:19<00:00,  1.09s/it]"
     ]
    },
    {
     "name": "stdout",
     "output_type": "stream",
     "text": [
      "                   all       4557       5070      0.992      0.973      0.989      0.933      0.985      0.952      0.978      0.787\n"
     ]
    },
    {
     "name": "stderr",
     "output_type": "stream",
     "text": [
      "\n"
     ]
    },
    {
     "name": "stdout",
     "output_type": "stream",
     "text": [
      "\n",
      "50 epochs completed in 6.415 hours.\n",
      "Optimizer stripped from runs\\segment\\train6\\weights\\last.pt, 55.8MB\n",
      "Optimizer stripped from runs\\segment\\train6\\weights\\best.pt, 55.8MB\n",
      "\n",
      "Validating runs\\segment\\train6\\weights\\best.pt...\n",
      "Ultralytics 8.3.73  Python-3.11.9 torch-2.6.0+cu126 CUDA:0 (NVIDIA GeForce RTX 3090, 24575MiB)\n",
      "YOLO11l-seg summary (fused): 491 layers, 27,585,363 parameters, 0 gradients, 141.9 GFLOPs\n"
     ]
    },
    {
     "name": "stderr",
     "output_type": "stream",
     "text": [
      "                 Class     Images  Instances      Box(P          R      mAP50  mAP50-95)     Mask(P          R      mAP50  mAP50-95): 100%|██████████| 18/18 [00:18<00:00,  1.02s/it]\n"
     ]
    },
    {
     "name": "stdout",
     "output_type": "stream",
     "text": [
      "                   all       4557       5070      0.992      0.973      0.989      0.933      0.984      0.952      0.978      0.787\n",
      "Speed: 0.0ms preprocess, 0.5ms inference, 0.0ms loss, 0.6ms postprocess per image\n",
      "Results saved to \u001b[1mruns\\segment\\train6\u001b[0m\n"
     ]
    }
   ],
   "source": [
    "model = YOLO(\"yolo11l-seg.pt\")\n",
    "\n",
    "results = model.train(\n",
    "    data=\"yolo_config.yaml\",\n",
    "    epochs=50,\n",
    "    imgsz=224,\n",
    "    batch=128,\n",
    "    task='segmentation',\n",
    "    lr0=0.0001,\n",
    "    save_period=5,\n",
    "    save=True,\n",
    "    device=\"0\",\n",
    "    optimizer='Adam'\n",
    ")"
   ]
  },
  {
   "cell_type": "code",
   "execution_count": 1,
   "metadata": {},
   "outputs": [
    {
     "name": "stderr",
     "output_type": "stream",
     "text": [
      "100%|██████████| 9074/9074 [04:32<00:00, 33.34it/s]\n"
     ]
    }
   ],
   "source": [
    "from tqdm import tqdm\n",
    "import os\n",
    "import cv2\n",
    "import json\n",
    "import numpy as np\n",
    "from ultralytics import YOLO\n",
    "import pycocotools.mask\n",
    "import random\n",
    "from PIL import Image\n",
    "\n",
    "\n",
    "def adjust_contrast(image, alpha=2, beta=0):\n",
    "    return cv2.convertScaleAbs(image, alpha=alpha, beta=beta)\n",
    "\n",
    "\n",
    "def add_gaussian_noise(image):\n",
    "    row, col, ch = image.shape\n",
    "    mean = 0\n",
    "    sigma = 10\n",
    "    gauss = np.random.normal(mean, sigma, (row, col, ch)).astype(np.uint8)\n",
    "    noisy = cv2.add(image, gauss)\n",
    "    return noisy\n",
    "\n",
    "\n",
    "def blur_image(image, ksize=5):\n",
    "    return cv2.GaussianBlur(image, (ksize, ksize), 0)\n",
    "\n",
    "\n",
    "def rotate_image(image, angle=15):\n",
    "    (h, w) = image.shape[:2]\n",
    "    center = (w // 2, h // 2)\n",
    "    matrix = cv2.getRotationMatrix2D(center, angle, 1.0)\n",
    "    rotated = cv2.warpAffine(image, matrix, (w, h))\n",
    "    return rotated\n",
    "\n",
    "\n",
    "def apply_random_augmentation(image):\n",
    "    augmentations = [adjust_contrast, add_gaussian_noise, blur_image, rotate_image]\n",
    "    aug_func = random.choice(augmentations)\n",
    "    return aug_func(image)\n",
    "\n",
    "\n",
    "model = YOLO('runs/segment/train6/weights/epoch40.pt')  # Укажите путь к вашей модели\n",
    "\n",
    "test_folder = \"test\"  # Папка с тестовыми изображениями\n",
    "output_folder = \"output\"  # Папка для сохранения результатов\n",
    "os.makedirs(output_folder, exist_ok=True)\n",
    "\n",
    "predictions = []\n",
    "\n",
    "for file_name in tqdm(os.listdir(test_folder)):\n",
    "    image_path = os.path.join(test_folder, file_name)\n",
    "    image = cv2.imread(image_path)\n",
    "    height, width = image.shape[:2]\n",
    "    \n",
    "    attempts = 0\n",
    "    while attempts < 10:\n",
    "        results = model(image, verbose=False, iou=0.5)\n",
    "        boxes = results[0].boxes.xyxy.cpu().numpy() if results[0].boxes else []\n",
    "        \n",
    "        if len(boxes) > 0:\n",
    "            break\n",
    "        \n",
    "        image = apply_random_augmentation(image)\n",
    "        attempts += 1\n",
    "    \n",
    "    if len(boxes) == 0:\n",
    "        continue\n",
    "\n",
    "    for result in results:\n",
    "        boxes = result.boxes.xyxy.cpu().numpy()\n",
    "        scores = result.boxes.conf.cpu().numpy()\n",
    "        classes = result.boxes.cls.cpu().numpy().astype(int)\n",
    "        masks = result.masks.data.cpu().numpy() if result.masks else None\n",
    "\n",
    "        for i in range(len(boxes)):\n",
    "            x1, y1, x2, y2 = boxes[i]\n",
    "            width_bbox = x2 - x1\n",
    "            height_bbox = y2 - y1\n",
    "            bbox = [float(x1), float(y1), float(width_bbox), float(height_bbox)]\n",
    "            score = float(scores[i])\n",
    "            category_id = 1\n",
    "\n",
    "            if masks is not None:\n",
    "                rle = pycocotools.mask.encode(np.asfortranarray(masks[i].astype(np.uint8)))\n",
    "                segmentation = {\n",
    "                    \"size\": [height, width],\n",
    "                    \"counts\": rle[\"counts\"].decode(\"utf-8\")\n",
    "                }\n",
    "            else:\n",
    "                segmentation = {\n",
    "                    \"size\": [height, width],\n",
    "                    \"counts\": \"\"\n",
    "                }\n",
    "\n",
    "            predictions.append({\n",
    "                \"image_name\": file_name,\n",
    "                \"category_id\": category_id,\n",
    "                \"bbox\": bbox,\n",
    "                \"score\": score,\n",
    "                \"segmentation\": segmentation\n",
    "            })\n",
    "\n",
    "with open(\"subm.json\", \"w\") as f:\n",
    "    json.dump(predictions, f, indent=4)"
   ]
  },
  {
   "cell_type": "code",
   "execution_count": null,
   "metadata": {},
   "outputs": [],
   "source": []
  }
 ],
 "metadata": {
  "kernelspec": {
   "display_name": ".venv",
   "language": "python",
   "name": "python3"
  },
  "language_info": {
   "codemirror_mode": {
    "name": "ipython",
    "version": 3
   },
   "file_extension": ".py",
   "mimetype": "text/x-python",
   "name": "python",
   "nbconvert_exporter": "python",
   "pygments_lexer": "ipython3",
   "version": "3.11.9"
  }
 },
 "nbformat": 4,
 "nbformat_minor": 2
}
